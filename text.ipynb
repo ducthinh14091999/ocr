{
 "cells": [
  {
   "cell_type": "code",
   "execution_count": null,
   "metadata": {},
   "outputs": [],
   "source": [
    "\n",
    "# 8. Vẽ đồ thị loss, accuracy của training set và validation set\n",
    "fig = plt.figure()\n",
    "numOfEpoch = 10\n",
    "plt.plot(np.arange(0, numOfEpoch),H.history['loss'], label='training loss')\n",
    "plt.plot(np.arange(0, numOfEpoch),H.history['val_loss'], label='validation loss')\n",
    "plt.plot(np.arange(0, numOfEpoch),H.history['acc'], label='accuracy')\n",
    "plt.plot(np.arange(0, numOfEpoch),H.history['val_acc'], label='validation accuracy')\n",
    "plt.title('Accuracy and Loss')\n",
    "plt.xlabel('Epoch')\n",
    "plt.ylabel('Loss|Accuracy')\n",
    "plt.legend()\n",
    "\n",
    "\n",
    "\n",
    "\n",
    "# 9. Đánh giá model với dữ liệu test set\n",
    "score = model.evaluate(X_test, Y_test, verbose=0)\n",
    "print(score)\n",
    "# 10. Dự đoán ảnh\n",
    "plt.imshow(X_test[0].reshape(28,28), cmap='gray')\n",
    "y_predict = model.predict(X_test[0].reshape(1,28,28,1))\n",
    "print('Giá trị dự đoán: ', np.argmax(y_predict))"
   ]
  },
  {
   "cell_type": "code",
   "execution_count": null,
   "metadata": {},
   "outputs": [],
   "source": [
    "import cv2\n",
    "from skimage.feature import hog\n",
    "from sklearn.svm import LinearSVC\n",
    "from sklearn.metrics import accuracy_score\n",
    "image = cv2.imread(\"/home/thinh/Bản tải về/con số.png\",cv2.IMREAD_GRAYSCALE)\n",
    "im_blur = cv2.GaussianBlur(image,(5,5),0)\n",
    "im,thre = cv2.threshold(im_blur,90,255,cv2.THRESH_BINARY_INV)\n",
    "_,contours,hierachy = cv2.findContours(thre,cv2.RETR_EXTERNAL,cv2.CHAIN_APPROX_SIMPLE)\n",
    "rects = [cv2.boundingRect(cnt) for cnt in contours]\n",
    "\n",
    "for i in contours:\n",
    "    (x,y,w,h) = cv2.boundingRect(i)\n",
    "    cv2.rectangle(image,(x,y),(x+w,y+h),(0,255,0),3)\n",
    "    roi = thre[y:y+h,x:x+w]\n",
    "    roi = np.pad(roi,(20,20),'constant',constant_values=(0,0))\n",
    "    roi = cv2.resize(roi, (28, 28), interpolation=cv2.INTER_AREA)\n",
    "    roi = cv2.dilate(roi, (3, 3))\n",
    "    y_predict = model.predict(roi.reshape(1,28,28,1))\n",
    "    cv2.putText(image, str(int(np.argmax(y_predict))), (x, y),cv2.FONT_HERSHEY_DUPLEX, 2, (0, 255, 255), 3)\n",
    "    print('Giá trị dự đoán: ', np.argmax(y_predict))"
   ]
  },
  {
   "cell_type": "code",
   "execution_count": null,
   "metadata": {},
   "outputs": [],
   "source": []
  },
  {
   "cell_type": "code",
   "execution_count": null,
   "metadata": {},
   "outputs": [],
   "source": [
    "import cv2\n",
    "import numpy as np\n",
    "import matplotlib.pyplot as plt\n",
    "for j in range(len(contours)):\n",
    "    stt=0\n",
    "    (x1,y1,w1,h1)=(0,0,0,0)\n",
    "    for i in contours:\n",
    "        (x,y,w,h)= cv2.boundingRect(i)\n",
    "        print(y1,y,j,stt)\n",
    "        if (y1>y):\n",
    "            tam=contours[stt]\n",
    "            contours[stt]=contours[stt-1]\n",
    "            contours[stt-1]=tam\n",
    "            print(cv2.boundingRect(contours[stt-1]),cv2.boundingRect(contours[stt]))\n",
    "        (x1,y1,w1,h1)=cv2.boundingRect(contours[stt])\n",
    "        stt=stt+1\n",
    "for i in contours:\n",
    "    print(cv2.boundingRect(i))\n",
    "print(np.shape(image))"
   ]
  },
  {
   "cell_type": "code",
   "execution_count": null,
   "metadata": {},
   "outputs": [],
   "source": [
    "import cv2\n",
    "import numpy as np\n",
    "import matplotlib.pyplot as plt\n",
    "Y=[]\n",
    "f = open('/home/thinh/data/words.txt', 'r')\n",
    "\n",
    "for i in range(115319):\n",
    "    line = f.readline()\n",
    "    tam=\"\"\n",
    "    for i in line:\n",
    "        tam=tam+i\n",
    "        if (i==\" \"):\n",
    "            tam=\"\"\n",
    "    Y.append(tam[:len(tam)-1])"
   ]
  },
  {
   "cell_type": "code",
   "execution_count": 1,
   "metadata": {},
   "outputs": [
    {
     "name": "stderr",
     "output_type": "stream",
     "text": [
      "Using TensorFlow backend.\n"
     ]
    }
   ],
   "source": [
    "import cv2\n",
    "import glob\n",
    "import os\n",
    "import numpy as np\n",
    "import matplotlib.pyplot as plt\n",
    "from keras.models import Model\n",
    "from keras.layers import LSTM,Dense, Dropout, Activation, Flatten,BatchNormalization\n",
    "from keras.layers import Conv2D, MaxPooling2D\n",
    "from keras.layers import Reshape, Lambda,Input\n",
    "from keras import backend as K\n",
    "from keras.models import load_model"
   ]
  },
  {
   "cell_type": "code",
   "execution_count": 11,
   "metadata": {},
   "outputs": [],
   "source": [
    "# 2. Load dữ liệu\n",
    "lensample=20\n",
    "tra_val=0.9\n",
    "def ctc_lambda_func(args):\n",
    "    y_pred, labels, input_length, label_length = args\n",
    "    # the 2 is critical here since the first couple outputs of the RNN\n",
    "    # tend to be garbage:\n",
    "    # print \"y_pred_shape: \", y_pred.shape\n",
    "    # print \"y_pred_shape: \", y_pred.shape\n",
    "    return K.ctc_batch_cost(labels, y_pred, input_length, label_length)\n",
    "X_train=[]\n",
    "datadir=\"/home/thinh/data/words\"\n",
    "X_train=[]\n",
    "address=sorted(glob.glob(os.path.join(datadir, \"*\",\"*\",\"*\")))\n",
    "for im in address[:lensample]:\n",
    "    image=cv2.imread(im,cv2.IMREAD_GRAYSCALE)\n",
    "    [length_im,height_im]=image.shape\n",
    "    if(length_im>32):\n",
    "        image=cv2.resize(image,(height_im,32))\n",
    "        length_im=32\n",
    "    if(height_im>128):\n",
    "        image=cv2.resize(image,(128,length_im))\n",
    "        height_im=128\n",
    "    tam=np.zeros((32,128))\n",
    "    for i in range(length_im):\n",
    "        tam[i][:height_im]=image[i][:height_im]\n",
    "    image=tam\n",
    "    X_train.append(image)\n",
    "X_train=np.array(X_train).reshape(-1,32,128,1)\n",
    "Y_train=[]\n",
    "f = open('/home/thinh/data/words.txt', 'r')\n",
    "for i in range(lensample):\n",
    "    line = f.readline()\n",
    "    line=line.split()\n",
    "    if(len(line)>9):\n",
    "        line=line[8]+' '+line[9]\n",
    "    else:\n",
    "        line=line[8]\n",
    "    Y_train.append(line)"
   ]
  },
  {
   "cell_type": "code",
   "execution_count": 12,
   "metadata": {},
   "outputs": [],
   "source": [
    "\n",
    "X_val, Y_val = X_train[int(lensample*tra_val):lensample], Y_train[int(lensample*tra_val):lensample]\n",
    "X_train, Y_train = X_train[:int(lensample*tra_val)], Y_train[:int(lensample*tra_val)]\n",
    "# 3. Reshape lại dữ liệu cho đúng kích thước mà keras yêu cầu\n",
    "X_train = X_train.reshape(X_train.shape[0], 32, 128, 1)\n",
    "X_val = X_val.reshape(X_val.shape[0], 32, 128, 1)\n",
    "#X_test = X_test.reshape(X_test.shape[0], 28, 28, 1)\n",
    "# 4. One hot encoding label (Y)\n",
    "lenX_train=[31 for i in range(len(X_train))]\n",
    "lenX_val=[31 for i in range(len(X_val))]\n",
    "lengthY_train=[len(i) for i in Y_train ]\n",
    "lengthY_val=[len(i) for i in Y_val ]\n",
    "lengthY_train=np.array(lengthY_train)\n",
    "lengthY_val=np.array(lengthY_val)\n",
    "Y_train=np.array(Y_train)\n",
    "Y_val=np.array(Y_val)\n",
    "lenX_train=np.array(lenX_train)\n",
    "lenX_val=np.array(lenX_val)\n",
    "alphabet = \" !\"+'\"'+\"#&'()*+,-./0123456789:;?ABCDEFGHIJKLMNOPQRSTUVWXYZabcdefghijklmnopqrstuvwxyz\"\n",
    "# define a mapping of chars to integers\n",
    "char_to_int = dict((c, i) for i, c in enumerate(alphabet))\n",
    "int_to_char = dict((i, c) for i, c in enumerate(alphabet))\n",
    "# integer encode input data\n",
    "integer_encoded=[]\n",
    "for i in range(len(Y_train)):\n",
    "    tam=np.zeros(19,dtype=int)\n",
    "    tam[:len(Y_train[i])] = [char_to_int[char] for char in Y_train[i]]\n",
    "    integer_encoded.append(tam)\n",
    "#print(integer_encoded)\n",
    "# one hot encode\n",
    "integer_encoded1=[]\n",
    "for i in range(len(Y_val)):\n",
    "    tam=np.zeros(19,dtype=int)\n",
    "    tam[:len(Y_train[i])] = [char_to_int[char] for char in Y_train[i]]\n",
    "    integer_encoded1.append(tam)\n",
    "integer_encoded=np.array(integer_encoded)\n",
    "integer_encoded1=np.array(integer_encoded1)\n",
    "#print(integer_encoded)\n",
    "# one hot encode"
   ]
  },
  {
   "cell_type": "code",
   "execution_count": 4,
   "metadata": {},
   "outputs": [],
   "source": [
    "from keras.callbacks import ModelCheckpoint\n",
    "checkpoint = ModelCheckpoint(filepath='ocr1.h5', monitor='val_loss', verbose=1, save_best_only=True, mode='auto')\n",
    "callbacks_list = [checkpoint]"
   ]
  },
  {
   "cell_type": "code",
   "execution_count": 16,
   "metadata": {},
   "outputs": [
    {
     "name": "stdout",
     "output_type": "stream",
     "text": [
      "Train on 18 samples, validate on 2 samples\n",
      "Epoch 1/10\n",
      "18/18 [==============================] - 11s 618ms/step - loss: 0.0000e+00 - accuracy: 1.0000 - val_loss: 0.0000e+00 - val_accuracy: 1.0000\n",
      "Epoch 2/10\n",
      "18/18 [==============================] - 4s 222ms/step - loss: 0.0000e+00 - accuracy: 1.0000 - val_loss: 0.0000e+00 - val_accuracy: 1.0000\n",
      "Epoch 3/10\n",
      "18/18 [==============================] - 4s 219ms/step - loss: 0.0000e+00 - accuracy: 1.0000 - val_loss: 0.0000e+00 - val_accuracy: 1.0000\n",
      "Epoch 4/10\n",
      "18/18 [==============================] - 4s 220ms/step - loss: 0.0000e+00 - accuracy: 1.0000 - val_loss: 0.0000e+00 - val_accuracy: 1.0000\n",
      "Epoch 5/10\n",
      "18/18 [==============================] - 4s 215ms/step - loss: 0.0000e+00 - accuracy: 1.0000 - val_loss: 0.0000e+00 - val_accuracy: 1.0000\n",
      "Epoch 6/10\n",
      "18/18 [==============================] - 4s 219ms/step - loss: 0.0000e+00 - accuracy: 1.0000 - val_loss: 0.0000e+00 - val_accuracy: 1.0000\n",
      "Epoch 7/10\n",
      "18/18 [==============================] - 4s 231ms/step - loss: 0.0000e+00 - accuracy: 1.0000 - val_loss: 0.0000e+00 - val_accuracy: 1.0000\n",
      "Epoch 8/10\n",
      "18/18 [==============================] - 4s 242ms/step - loss: 0.0000e+00 - accuracy: 1.0000 - val_loss: 0.0000e+00 - val_accuracy: 1.0000\n",
      "Epoch 9/10\n",
      "18/18 [==============================] - 4s 250ms/step - loss: 0.0000e+00 - accuracy: 1.0000 - val_loss: 0.0000e+00 - val_accuracy: 1.0000\n",
      "Epoch 10/10\n",
      "18/18 [==============================] - 5s 251ms/step - loss: 0.0000e+00 - accuracy: 1.0000 - val_loss: 0.0000e+00 - val_accuracy: 1.0000\n"
     ]
    },
    {
     "data": {
      "text/plain": [
       "<keras.callbacks.callbacks.History at 0x7f76d2263a90>"
      ]
     },
     "execution_count": 16,
     "metadata": {},
     "output_type": "execute_result"
    }
   ],
   "source": [
    "\n",
    "\n",
    "# 5. Định nghĩa model\n",
    "from keras.layers.merge import add, concatenate\n",
    "input_shape = (32, 128, 1)     # (128, 64, 1)\n",
    "\n",
    "    # Make Networkw\n",
    "inputs = Input(name='the_input', shape=input_shape, dtype='float32')  # (None, 128, 64, 1)\n",
    "\n",
    "    # Convolution layer (VGG)\n",
    "inner = Conv2D(64, (3, 3), padding='same', name='conv1', activation='relu')(inputs)  # (None, 32,128,64)\n",
    "inner1 = MaxPooling2D(pool_size=(2, 2), name='max1')(inner)  # (None,64, 32, 64)\n",
    "\n",
    "inner2 = Conv2D(128, (3, 3), padding='same', name='conv2', activation='relu' )(inner1)  # (None, 16, 64, 128)\n",
    "inner3 = MaxPooling2D(pool_size=(2, 2), name='max2')(inner2)  # (None, 32, 16, 128)\n",
    "\n",
    "inner4 = Conv2D(512, (3, 3), padding='same', name='conv3',activation='relu')(inner3)  # (None, 8, 32, 256)\n",
    "inner5 = MaxPooling2D(pool_size=(2, 1), name='max3')(inner4)  # (None, 32, 8, 256)\n",
    "\n",
    "inner6 = Conv2D(1024, (3, 3), padding='same', name='conv5', activation='relu')(inner5)  # (None, 4, 32, 512)\n",
    "inner7 = MaxPooling2D(pool_size=(2, 1), name='max4')(inner6)  # (None, 32, 4, 512)\n",
    "#inner7b = BatchNormalization()(inner7)\n",
    "inner8 = Conv2D(512, (2, 2), padding='same',  activation='relu', name='con7')(inner7)  # (None, 2, 32, 512)\n",
    "inner9 = MaxPooling2D(pool_size=(2, 1), name='max5')(inner8)\n",
    "\n",
    "\n",
    "    # CNN to RNN\n",
    "inner10 = squeezed = Lambda(lambda x: K.squeeze(x, 1))(inner9)  # (None, 32, 2048)\n",
    "#inner = Dense(256, activation='relu', name='dense1')(inner)  # (None, 32, 64)\n",
    "\n",
    "    # RNN layer\n",
    "\n",
    "  # (None, 32, 512)\n",
    "    \n",
    "lstm_1 = LSTM(512, return_sequences=True, go_backwards=True,name='lstm1')(inner10)\n",
    "lstm_2 = LSTM(256, return_sequences=True, go_backwards=True, name='lstm2')(lstm_1)\n",
    "#reversed_lstm_2b= Lambda(lambda inputTensor: K.reverse(inputTensor, axes=1)) (lstm_2b)\n",
    "\n",
    "#lstm2_merged = concatenate([lstm_2, reversed_lstm_2b])  # (None, 32, 1024)\n",
    "\n",
    "    # transform1s RNN output to character activations:\n",
    "y_pred = Dense(80,activation='softmax',name='dense2')(lstm_2) #(None, 32, 63)\n",
    "\n",
    "labels = Input(name='the_labels', shape=[19], dtype='float32') # (None ,8)\n",
    "input_length = Input(name='input_length', shape=[1], dtype='int64')     # (None, 1)\n",
    "label_length = Input(name='label_length', shape=[1], dtype='int64')     # (None, 1)\n",
    "\n",
    "    # Keras doesn't currently support loss funcs with extra parameters\n",
    "    # so CTC loss is implemented in a lambda layer\n",
    "loss_out = Lambda(ctc_lambda_func,output_shape=(1,), name='ctc')([y_pred, labels, input_length, label_length]) #(None, 1)\n",
    "model = Model(inputs=[inputs, labels, input_length, label_length],outputs=loss_out)\n",
    "model1= Model(inputs=inputs ,outputs=y_pred)\n",
    "model.compile(loss={'ctc': lambda y_true, y_pred: y_pred}, optimizer = 'adam',metrics=['accuracy'])\n",
    "model.fit(x=[X_train,integer_encoded,lengthY_train,lenX_train], y=np.zeros(len(X_train)),validation_data=([X_val,integer_encoded1,lengthY_val,lenX_val],[np.zeros(len(X_val))]),batch_size=64, epochs=10, verbose=1)\n",
    "#,callbacks = callbacks_list"
   ]
  },
  {
   "cell_type": "code",
   "execution_count": 19,
   "metadata": {},
   "outputs": [],
   "source": [
    "model1= Model(inputs=inputs ,outputs=y_pred)\n",
    "prediction = model1.predict(X_train[:10])\n",
    "out = K.get_value(K.ctc_decode(prediction, input_length=np.ones(prediction.shape[0])*prediction.shape[1],\n",
    "                         greedy=False,)[0][0])\n",
    "#beam_width=128, top_paths=1"
   ]
  },
  {
   "cell_type": "code",
   "execution_count": 20,
   "metadata": {},
   "outputs": [
    {
     "name": "stdout",
     "output_type": "stream",
     "text": [
      "original_text =   A\n",
      "predicted text = w:c:c:AeAe(e(e\n",
      "\n",
      "original_text =   MOVE\n",
      "predicted text = w:wcwcwdwdwdwd:c\n",
      "\n",
      "original_text =   to\n",
      "predicted text = w:wcwcwc:c:AfAe\n",
      "\n",
      "original_text =   stop\n",
      "predicted text = w:wcwcwcwcwcwc:c\n",
      "\n",
      "original_text =   Mr.\n",
      "predicted text = wdwdwdwcwcdwcwc:\n",
      "\n",
      "original_text =   Gaitskell\n",
      "predicted text = wdwdwdwdwdwcwc:\n",
      "\n",
      "original_text =   from\n",
      "predicted text = wdwdwdwcwcwcwc:\n",
      "\n",
      "original_text =   nominating\n",
      "predicted text = wcwcwcwcwcwcwc:\n",
      "\n",
      "original_text =   any\n",
      "predicted text = wcwcwcwcwcwcwc:c\n",
      "\n",
      "original_text =   more\n",
      "predicted text = dwdwdwdwdwcwcwc:\n",
      "\n"
     ]
    }
   ],
   "source": [
    "i = 0\n",
    "int_to_char = dict((i, c) for i, c in enumerate(alphabet))\n",
    "for x in out:\n",
    "    print(\"original_text =  \", Y_train[i])\n",
    "    print(\"predicted text = \", end = '')\n",
    "    for p in x:  \n",
    "        if int(p) != -1:\n",
    "            print(int_to_char[int(p)], end = '')       \n",
    "    print('\\n')\n",
    "    i+=1\n"
   ]
  },
  {
   "cell_type": "code",
   "execution_count": 8,
   "metadata": {},
   "outputs": [
    {
     "name": "stdout",
     "output_type": "stream",
     "text": [
      "Model: \"model_1\"\n",
      "__________________________________________________________________________________________________\n",
      "Layer (type)                    Output Shape         Param #     Connected to                     \n",
      "==================================================================================================\n",
      "the_input (InputLayer)          (None, 32, 128, 1)   0                                            \n",
      "__________________________________________________________________________________________________\n",
      "conv1 (Conv2D)                  (None, 32, 128, 64)  640         the_input[0][0]                  \n",
      "__________________________________________________________________________________________________\n",
      "max1 (MaxPooling2D)             (None, 16, 64, 64)   0           conv1[0][0]                      \n",
      "__________________________________________________________________________________________________\n",
      "conv2 (Conv2D)                  (None, 16, 64, 128)  73856       max1[0][0]                       \n",
      "__________________________________________________________________________________________________\n",
      "max2 (MaxPooling2D)             (None, 8, 32, 128)   0           conv2[0][0]                      \n",
      "__________________________________________________________________________________________________\n",
      "conv3 (Conv2D)                  (None, 8, 32, 256)   295168      max2[0][0]                       \n",
      "__________________________________________________________________________________________________\n",
      "max3 (MaxPooling2D)             (None, 4, 32, 256)   0           conv3[0][0]                      \n",
      "__________________________________________________________________________________________________\n",
      "conv5 (Conv2D)                  (None, 4, 32, 512)   1180160     max3[0][0]                       \n",
      "__________________________________________________________________________________________________\n",
      "max4 (MaxPooling2D)             (None, 2, 32, 512)   0           conv5[0][0]                      \n",
      "__________________________________________________________________________________________________\n",
      "con7 (Conv2D)                   (None, 2, 32, 512)   1049088     max4[0][0]                       \n",
      "__________________________________________________________________________________________________\n",
      "max5 (MaxPooling2D)             (None, 1, 32, 512)   0           con7[0][0]                       \n",
      "__________________________________________________________________________________________________\n",
      "lambda_1 (Lambda)               (None, 32, 512)      0           max5[0][0]                       \n",
      "__________________________________________________________________________________________________\n",
      "lstm1 (LSTM)                    (None, 32, 512)      2099200     lambda_1[0][0]                   \n",
      "__________________________________________________________________________________________________\n",
      "lstm2 (LSTM)                    (None, 32, 256)      787456      lstm1[0][0]                      \n",
      "__________________________________________________________________________________________________\n",
      "dense2 (Dense)                  (None, 32, 80)       20560       lstm2[0][0]                      \n",
      "__________________________________________________________________________________________________\n",
      "the_labels (InputLayer)         (None, 19)           0                                            \n",
      "__________________________________________________________________________________________________\n",
      "input_length (InputLayer)       (None, 1)            0                                            \n",
      "__________________________________________________________________________________________________\n",
      "label_length (InputLayer)       (None, 1)            0                                            \n",
      "__________________________________________________________________________________________________\n",
      "ctc (Lambda)                    (None, 1)            0           dense2[0][0]                     \n",
      "                                                                 the_labels[0][0]                 \n",
      "                                                                 input_length[0][0]               \n",
      "                                                                 label_length[0][0]               \n",
      "==================================================================================================\n",
      "Total params: 5,506,128\n",
      "Trainable params: 5,506,128\n",
      "Non-trainable params: 0\n",
      "__________________________________________________________________________________________________\n"
     ]
    }
   ],
   "source": [
    "model.summary()"
   ]
  },
  {
   "cell_type": "code",
   "execution_count": 22,
   "metadata": {},
   "outputs": [
    {
     "name": "stdout",
     "output_type": "stream",
     "text": [
      "[[0.]\n",
      " [0.]\n",
      " [0.]\n",
      " [0.]\n",
      " [0.]]\n"
     ]
    }
   ],
   "source": [
    "model2=Model(inputs=[inputs, labels, input_length, label_length],outputs=loss_out)\n",
    "a = model2.predict([X_train[:5],integer_encoded[:5],lengthY_train[:5],lenX_train[:5]])\n",
    "import matplotlib.pyplot as plt\n",
    "print(a)\n"
   ]
  },
  {
   "cell_type": "code",
   "execution_count": 129,
   "metadata": {
    "scrolled": false
   },
   "outputs": [
    {
     "name": "stdout",
     "output_type": "stream",
     "text": [
      "['from' 'nominating']\n",
      "(2, 32, 512)\n"
     ]
    },
    {
     "data": {
      "image/png": "[encoded data removed]",
      "text/plain": [
       "<Figure size 432x288 with 2 Axes>"
      ]
     },
     "metadata": {
      "needs_background": "light"
     },
     "output_type": "display_data"
    }
   ],
   "source": [
    "import time\n",
    "e=range(6,8)\n",
    "model3=Model(inputs=inputs,outputs=inner10)\n",
    "b=model3.predict(X_train[e])\n",
    "print(Y_train[e])\n",
    "print(b.shape)\n",
    "fig=plt.figure()\n",
    "for i in range(1,3):\n",
    "    pic=b[i-1][:,:]\n",
    "    #print(pic.shape)\n",
    "    fig.add_subplot(i,1,1)\n",
    "    plt.imshow(pic)\n",
    "    #print('\\n')\n",
    "\n",
    "    \n"
   ]
  },
  {
   "cell_type": "code",
   "execution_count": 130,
   "metadata": {},
   "outputs": [
    {
     "data": {
      "text/plain": [
       "<matplotlib.image.AxesImage at 0x7f27b191e7d0>"
      ]
     },
     "execution_count": 130,
     "metadata": {},
     "output_type": "execute_result"
    },
    {
     "data": {
      "image/png": "[encoded data removed]",
      "text/plain": [
       "<Figure size 432x288 with 1 Axes>"
      ]
     },
     "metadata": {
      "needs_background": "light"
     },
     "output_type": "display_data"
    }
   ],
   "source": []
  },
  {
   "cell_type": "code",
   "execution_count": 9,
   "metadata": {},
   "outputs": [],
   "source": [
    "weight=[]\n",
    "for layer in model.layers:\n",
    "    weights = layer.get_weights() \n",
    "    weight.append(weights)# list of numpy arrays"
   ]
  },
  {
   "cell_type": "code",
   "execution_count": 51,
   "metadata": {},
   "outputs": [
    {
     "data": {
      "text/plain": [
       "([<tf.Tensor: shape=(10, 8), dtype=int64, numpy=\n",
       "  array([[ 6, 24, 75, 73, 47, -1, -1, -1],\n",
       "         [ 6, 28,  6, -1, -1, -1, -1, -1],\n",
       "         [36,  6, 24, 71, 24, 75, 70, 73],\n",
       "         [ 6, -1, -1, -1, -1, -1, -1, -1],\n",
       "         [ 6, 28,  6, -1, -1, -1, -1, -1],\n",
       "         [77,  6, 28,  6, -1, -1, -1, -1],\n",
       "         [ 6, -1, -1, -1, -1, -1, -1, -1],\n",
       "         [ 6, -1, -1, -1, -1, -1, -1, -1],\n",
       "         [41,  6, 28,  6, -1, -1, -1, -1],\n",
       "         [ 6, -1, -1, -1, -1, -1, -1, -1]])>],\n",
       " <tf.Tensor: shape=(10, 1), dtype=float32, numpy=\n",
       " array([[133.60512 ],\n",
       "        [120.365944],\n",
       "        [125.40505 ],\n",
       "        [119.19931 ],\n",
       "        [119.51681 ],\n",
       "        [118.87883 ],\n",
       "        [120.59592 ],\n",
       "        [119.77333 ],\n",
       "        [119.565025],\n",
       "        [119.02488 ]], dtype=float32)>)"
      ]
     },
     "execution_count": 51,
     "metadata": {},
     "output_type": "execute_result"
    }
   ],
   "source": [
    "K.ctc_decode(prediction, input_length=np.ones(prediction.shape[0])*prediction.shape[1],\n",
    "                         greedy=True)"
   ]
  },
  {
   "cell_type": "code",
   "execution_count": 69,
   "metadata": {},
   "outputs": [
    {
     "name": "stdout",
     "output_type": "stream",
     "text": [
      "6\n",
      "6\n",
      "6\n",
      "6\n",
      "6\n",
      "6\n",
      "6\n",
      "6\n",
      "24\n",
      "24\n",
      "24\n",
      "24\n",
      "24\n",
      "24\n",
      "75\n",
      "75\n",
      "75\n",
      "75\n",
      "73\n",
      "73\n",
      "73\n",
      "73\n",
      "73\n",
      "73\n",
      "73\n",
      "73\n",
      "73\n",
      "73\n",
      "73\n",
      "47\n",
      "47\n",
      "47\n"
     ]
    }
   ],
   "source": [
    "s=0\n",
    "for j in range(32):\n",
    "    b=dict((c, i) for i, c in enumerate(prediction[s][j]))\n",
    "    print(b[max(prediction[s][j])])\n"
   ]
  },
  {
   "cell_type": "code",
   "execution_count": 90,
   "metadata": {},
   "outputs": [
    {
     "data": {
      "text/plain": [
       "array(['of', 'Labour', 'M Ps', 'tomorrow', '.', 'Mr.', 'Michael', 'Foot',\n",
       "       'has', 'put'], dtype='<U16')"
      ]
     },
     "execution_count": 90,
     "metadata": {},
     "output_type": "execute_result"
    }
   ],
   "source": [
    "Y_train[20:30]"
   ]
  },
  {
   "cell_type": "code",
   "execution_count": null,
   "metadata": {},
   "outputs": [],
   "source": []
  }
 ],
 "metadata": {
  "kernelspec": {
   "display_name": "Python 3",
   "language": "python",
   "name": "python3"
  },
  "language_info": {
   "codemirror_mode": {
    "name": "ipython",
    "version": 3
   },
   "file_extension": ".py",
   "mimetype": "text/x-python",
   "name": "python",
   "nbconvert_exporter": "python",
   "pygments_lexer": "ipython3",
   "version": "3.7.6"
  }
 },
 "nbformat": 4,
 "nbformat_minor": 4
}
